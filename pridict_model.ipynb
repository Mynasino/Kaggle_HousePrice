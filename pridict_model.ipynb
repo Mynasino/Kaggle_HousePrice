{
 "cells": [
  {
   "cell_type": "code",
   "execution_count": 1,
   "metadata": {
    "collapsed": true
   },
   "outputs": [],
   "source": [
    "import pandas as pd\n",
    "import numpy as np\n",
    "import tensorflow as tf\n",
    "import os\n",
    "\n",
    "os.chdir('/home/mynasino/kaggle_houseprice/model_final')"
   ]
  },
  {
   "cell_type": "code",
   "execution_count": 2,
   "metadata": {
    "collapsed": true,
    "scrolled": true
   },
   "outputs": [],
   "source": [
    "MiscVal_train_X = pd.read_csv('data_process/MiscVal_data.csv').drop(['Unnamed: 0'],axis=1).as_matrix()[0:1460]\n",
    "MiscVal_pridict_X = pd.read_csv('data_process/MiscVal_data.csv').drop(['Unnamed: 0'],axis=1).as_matrix()[1460:2919]"
   ]
  },
  {
   "cell_type": "code",
   "execution_count": 3,
   "metadata": {
    "collapsed": true
   },
   "outputs": [],
   "source": [
    "one_hot_df = pd.read_csv('data_process/one_hot_features.csv').drop(['Unnamed: 0'], axis=1)\n",
    "numerical_df = pd.read_csv('data_process/numerical_with_pridict.csv').drop(['Unnamed: 0','Unnamed: 0.1'],axis=1)\n",
    "\n",
    "df = pd.concat([one_hot_df,numerical_df],axis=1)\n",
    "df_y = pd.read_csv('/home/mynasino/kaggle_houseprice/data/train.csv')['SalePrice']\n",
    "\n",
    "train_X = df.as_matrix()[0:1460]\n",
    "train_y = df_y.as_matrix().reshape([1460,1])\n",
    "pridict_X = df.as_matrix()[1460:2919]"
   ]
  },
  {
   "cell_type": "code",
   "execution_count": 7,
   "metadata": {
    "collapsed": true
   },
   "outputs": [],
   "source": [
    "def Xavier_init(fan_in,fan_out,constant=1):\n",
    "    low = -constant * np.sqrt(6/(fan_in + fan_out))\n",
    "    high = constant * np.sqrt(6/(fan_in + fan_out))\n",
    "    return tf.random_uniform((fan_in,fan_out),minval=low,maxval=high,dtype=tf.float32)"
   ]
  },
  {
   "cell_type": "code",
   "execution_count": 8,
   "metadata": {
    "collapsed": true
   },
   "outputs": [],
   "source": [
    "import random\n",
    "\n",
    "batch_size = 16\n",
    "num_examples = 1460\n",
    "\n",
    "def data_iter():\n",
    "    idx = list(range(num_examples))\n",
    "    random.shuffle(idx)\n",
    "    for i in range(0, num_examples, batch_size):\n",
    "        j = np.array(idx[i:min(i + batch_size, num_examples)]) #np.array() missed\n",
    "        yield np.take(train_X, j, axis=0), np.take(MiscVal_train_X, j).reshape([len(j),1]), np.take(train_y, j).reshape([len(j),1])"
   ]
  },
  {
   "cell_type": "code",
   "execution_count": 9,
   "metadata": {
    "collapsed": true
   },
   "outputs": [],
   "source": [
    "in_units = 377\n",
    "h1_units = 50\n",
    "h2_units = 8\n",
    "\n",
    "W1 = tf.Variable(Xavier_init(in_units,h1_units))\n",
    "b1 = tf.Variable(tf.constant(0.1,shape=[h1_units]))\n",
    "W2 = tf.Variable(Xavier_init(h1_units,h2_units))\n",
    "b2 = tf.Variable(tf.constant(0.1,shape=[h2_units]))\n",
    "W3 = tf.Variable(Xavier_init(h2_units,1))\n",
    "b3 = tf.Variable(tf.constant(0.1,shape=[1]))\n",
    "\n",
    "in_X = tf.placeholder(tf.float32,[None,in_units])\n",
    "Misc_X = tf.placeholder(tf.float32,[None,1])\n",
    "hidden1 = tf.nn.relu(tf.matmul(in_X,W1) + b1)\n",
    "hidden2 = tf.nn.relu(tf.matmul(hidden1,W2) + b2)\n",
    "y = tf.nn.relu(tf.matmul(hidden2,W3) + b3) + Misc_X\n",
    "\n",
    "y_ = tf.placeholder(tf.float32,[None,1])\n",
    "loss = tf.sqrt(tf.reduce_mean(tf.square(tf.log(y + 1) - tf.log(y_ + 1))))\n",
    "loss_with_L2 = loss + 0.1 * tf.reduce_mean(tf.square(W1))\n",
    "train_step = tf.train.AdamOptimizer(1e-3).minimize(loss_with_L2)"
   ]
  },
  {
   "cell_type": "code",
   "execution_count": 10,
   "metadata": {
    "scrolled": true
   },
   "outputs": [
    {
     "name": "stdout",
     "output_type": "stream",
     "text": [
      "epoch 0 train_loss 5.42773 test_loss 5.41646\n",
      "epoch 1 train_loss 4.02322 test_loss 4.00996\n",
      "epoch 2 train_loss 3.18443 test_loss 3.17021\n",
      "epoch 3 train_loss 2.59137 test_loss 2.57626\n",
      "epoch 4 train_loss 2.13372 test_loss 2.11781\n",
      "epoch 5 train_loss 1.76121 test_loss 1.74433\n",
      "epoch 6 train_loss 1.44781 test_loss 1.42978\n",
      "epoch 7 train_loss 1.17959 test_loss 1.16023\n",
      "epoch 8 train_loss 0.947999 test_loss 0.927088\n",
      "epoch 9 train_loss 0.750065 test_loss 0.727381\n",
      "epoch 10 train_loss 0.584813 test_loss 0.560126\n",
      "epoch 11 train_loss 0.458322 test_loss 0.431949\n",
      "epoch 12 train_loss 0.3715 test_loss 0.344763\n",
      "epoch 13 train_loss 0.318886 test_loss 0.293828\n",
      "epoch 14 train_loss 0.280301 test_loss 0.25881\n",
      "epoch 15 train_loss 0.252065 test_loss 0.234066\n",
      "epoch 16 train_loss 0.229015 test_loss 0.21373\n",
      "epoch 17 train_loss 0.209635 test_loss 0.196783\n",
      "epoch 18 train_loss 0.195248 test_loss 0.183729\n",
      "epoch 19 train_loss 0.185309 test_loss 0.174892\n",
      "epoch 20 train_loss 0.178082 test_loss 0.16835\n",
      "epoch 21 train_loss 0.172485 test_loss 0.163616\n",
      "epoch 22 train_loss 0.168586 test_loss 0.160167\n",
      "epoch 23 train_loss 0.165918 test_loss 0.157231\n",
      "epoch 24 train_loss 0.162901 test_loss 0.155053\n",
      "epoch 25 train_loss 0.159766 test_loss 0.152893\n",
      "epoch 26 train_loss 0.157681 test_loss 0.150922\n",
      "epoch 27 train_loss 0.155621 test_loss 0.149231\n",
      "epoch 28 train_loss 0.153665 test_loss 0.147678\n",
      "epoch 29 train_loss 0.152348 test_loss 0.146161\n",
      "epoch 30 train_loss 0.150641 test_loss 0.144881\n",
      "epoch 31 train_loss 0.149011 test_loss 0.144103\n",
      "epoch 32 train_loss 0.147815 test_loss 0.142482\n",
      "epoch 33 train_loss 0.147223 test_loss 0.141351\n",
      "epoch 34 train_loss 0.145497 test_loss 0.140344\n",
      "epoch 35 train_loss 0.144422 test_loss 0.139249\n",
      "epoch 36 train_loss 0.14323 test_loss 0.13838\n",
      "epoch 37 train_loss 0.142454 test_loss 0.137218\n",
      "epoch 38 train_loss 0.141141 test_loss 0.13633\n",
      "epoch 39 train_loss 0.140303 test_loss 0.135337\n",
      "epoch 40 train_loss 0.139489 test_loss 0.134618\n",
      "epoch 41 train_loss 0.138199 test_loss 0.133938\n",
      "epoch 42 train_loss 0.137434 test_loss 0.133151\n",
      "epoch 43 train_loss 0.136645 test_loss 0.132665\n",
      "epoch 44 train_loss 0.136182 test_loss 0.131683\n",
      "epoch 45 train_loss 0.135108 test_loss 0.13131\n",
      "epoch 46 train_loss 0.134158 test_loss 0.130086\n",
      "epoch 47 train_loss 0.133522 test_loss 0.129546\n",
      "epoch 48 train_loss 0.132954 test_loss 0.128569\n",
      "epoch 49 train_loss 0.13242 test_loss 0.127918\n",
      "epoch 50 train_loss 0.1319 test_loss 0.127435\n",
      "epoch 51 train_loss 0.131566 test_loss 0.12761\n",
      "epoch 52 train_loss 0.1313 test_loss 0.12765\n",
      "epoch 53 train_loss 0.130185 test_loss 0.125646\n",
      "epoch 54 train_loss 0.129827 test_loss 0.125017\n",
      "epoch 55 train_loss 0.129422 test_loss 0.125216\n",
      "epoch 56 train_loss 0.128783 test_loss 0.124518\n",
      "epoch 57 train_loss 0.128437 test_loss 0.123962\n",
      "epoch 58 train_loss 0.127938 test_loss 0.123661\n",
      "epoch 59 train_loss 0.12721 test_loss 0.122566\n",
      "epoch 60 train_loss 0.127881 test_loss 0.122378\n",
      "epoch 61 train_loss 0.12761 test_loss 0.122297\n",
      "epoch 62 train_loss 0.126061 test_loss 0.121585\n",
      "epoch 63 train_loss 0.126654 test_loss 0.121339\n",
      "epoch 64 train_loss 0.12581 test_loss 0.12159\n",
      "epoch 65 train_loss 0.124839 test_loss 0.120264\n",
      "epoch 66 train_loss 0.124499 test_loss 0.120336\n",
      "epoch 67 train_loss 0.124259 test_loss 0.119808\n",
      "epoch 68 train_loss 0.123859 test_loss 0.119265\n",
      "epoch 69 train_loss 0.124355 test_loss 0.12023\n",
      "epoch 70 train_loss 0.123802 test_loss 0.119637\n",
      "epoch 71 train_loss 0.123056 test_loss 0.118804\n",
      "epoch 72 train_loss 0.12274 test_loss 0.118308\n",
      "epoch 73 train_loss 0.122472 test_loss 0.118188\n",
      "epoch 74 train_loss 0.122215 test_loss 0.117821\n",
      "epoch 75 train_loss 0.122867 test_loss 0.118512\n",
      "epoch 76 train_loss 0.121632 test_loss 0.117647\n",
      "epoch 77 train_loss 0.12162 test_loss 0.117519\n",
      "epoch 78 train_loss 0.121127 test_loss 0.117076\n",
      "epoch 79 train_loss 0.121479 test_loss 0.117783\n",
      "epoch 80 train_loss 0.120654 test_loss 0.116662\n",
      "epoch 81 train_loss 0.120292 test_loss 0.116504\n",
      "epoch 82 train_loss 0.121028 test_loss 0.116257\n",
      "epoch 83 train_loss 0.120122 test_loss 0.11574\n",
      "epoch 84 train_loss 0.119769 test_loss 0.115556\n",
      "epoch 85 train_loss 0.120083 test_loss 0.115928\n",
      "epoch 86 train_loss 0.120258 test_loss 0.115782\n",
      "epoch 87 train_loss 0.119687 test_loss 0.115124\n",
      "epoch 88 train_loss 0.119117 test_loss 0.114951\n",
      "epoch 89 train_loss 0.119119 test_loss 0.114622\n",
      "epoch 90 train_loss 0.119116 test_loss 0.114535\n",
      "epoch 91 train_loss 0.11873 test_loss 0.114235\n",
      "epoch 92 train_loss 0.12029 test_loss 0.115191\n",
      "epoch 93 train_loss 0.118759 test_loss 0.114139\n",
      "epoch 94 train_loss 0.119245 test_loss 0.114671\n",
      "epoch 95 train_loss 0.118667 test_loss 0.114295\n",
      "epoch 96 train_loss 0.118681 test_loss 0.114009\n",
      "epoch 97 train_loss 0.117749 test_loss 0.113478\n",
      "epoch 98 train_loss 0.117897 test_loss 0.113849\n",
      "epoch 99 train_loss 0.117984 test_loss 0.113931\n",
      "epoch 100 train_loss 0.119656 test_loss 0.115003\n",
      "epoch 101 train_loss 0.117135 test_loss 0.112701\n",
      "epoch 102 train_loss 0.117635 test_loss 0.113905\n",
      "epoch 103 train_loss 0.117728 test_loss 0.113485\n",
      "epoch 104 train_loss 0.117612 test_loss 0.113244\n",
      "epoch 105 train_loss 0.116249 test_loss 0.112558\n",
      "epoch 106 train_loss 0.116067 test_loss 0.112416\n",
      "epoch 107 train_loss 0.115999 test_loss 0.112378\n",
      "epoch 108 train_loss 0.115519 test_loss 0.111941\n",
      "epoch 109 train_loss 0.116608 test_loss 0.11338\n",
      "epoch 110 train_loss 0.115356 test_loss 0.11231\n",
      "epoch 111 train_loss 0.115237 test_loss 0.111805\n",
      "epoch 112 train_loss 0.115064 test_loss 0.111098\n",
      "epoch 113 train_loss 0.115324 test_loss 0.112058\n",
      "epoch 114 train_loss 0.114618 test_loss 0.111532\n",
      "epoch 115 train_loss 0.115601 test_loss 0.112704\n",
      "epoch 116 train_loss 0.114976 test_loss 0.111509\n",
      "epoch 117 train_loss 0.113963 test_loss 0.110557\n",
      "epoch 118 train_loss 0.114038 test_loss 0.110811\n",
      "epoch 119 train_loss 0.113577 test_loss 0.110171\n",
      "epoch 120 train_loss 0.113558 test_loss 0.110271\n",
      "epoch 121 train_loss 0.113374 test_loss 0.110147\n",
      "epoch 122 train_loss 0.114626 test_loss 0.10995\n",
      "epoch 123 train_loss 0.114539 test_loss 0.111115\n",
      "epoch 124 train_loss 0.113653 test_loss 0.110284\n",
      "epoch 125 train_loss 0.113584 test_loss 0.110279\n",
      "epoch 126 train_loss 0.112752 test_loss 0.10967\n"
     ]
    }
   ],
   "source": [
    "sess = tf.Session()\n",
    "sess.run(tf.global_variables_initializer())\n",
    "\n",
    "train_loss = []\n",
    "test_loss = []\n",
    "\n",
    "for epoch_i in range(2000):\n",
    "    for batch_X, MiscVal_batch_X, batch_y in data_iter():\n",
    "        sess.run(train_step,feed_dict={in_X: batch_X, Misc_X:MiscVal_batch_X, y_: batch_y})\n",
    "    \n",
    "    #generate train_examples and test_examples\n",
    "    train_id = list(range(0, 730))\n",
    "    test_id = list(range(730,1460))\n",
    "    arr_train_x = np.take(train_X, train_id, axis=0)\n",
    "    arr_Misc_train_x = np.take(MiscVal_train_X, train_id).reshape([len(train_id),1])\n",
    "    arr_train_y = np.take(train_y, train_id).reshape([len(train_id),1])\n",
    "    arr_test_x = np.take(train_X, test_id, axis=0)\n",
    "    arr_Misc_test_x = np.take(MiscVal_train_X, test_id).reshape([len(test_id),1])\n",
    "    arr_test_y = np.take(train_y, test_id).reshape([len(test_id),1])\n",
    "        \n",
    "    #calculate train loss\n",
    "    train_loss.append(sess.run(loss,feed_dict={in_X: arr_train_x, Misc_X:arr_Misc_train_x ,y_: arr_train_y}))\n",
    "        \n",
    "    #calculate test loss\n",
    "    test_loss.append(sess.run(loss,feed_dict={in_X: arr_test_x, Misc_X:arr_Misc_test_x ,y_:arr_test_y}))\n",
    "        \n",
    "    print(\"epoch %d\" % epoch_i, \"train_loss\", train_loss[-1], \"test_loss\", test_loss[-1])\n",
    "    \n",
    "    #add early stop here to impove generalization ability"
   ]
  },
  {
   "cell_type": "code",
   "execution_count": 11,
   "metadata": {},
   "outputs": [
    {
     "data": {
      "text/plain": [
       "[<matplotlib.lines.Line2D at 0x7fedac6667b8>,\n",
       " <matplotlib.lines.Line2D at 0x7fedac666a20>]"
      ]
     },
     "execution_count": 11,
     "metadata": {},
     "output_type": "execute_result"
    },
    {
     "data": {
      "image/png": "[encoded data removed]",
      "text/plain": [
       "<matplotlib.figure.Figure at 0x7fedc067b978>"
      ]
     },
     "metadata": {},
     "output_type": "display_data"
    }
   ],
   "source": [
    "%matplotlib inline\n",
    "import matplotlib.pyplot as plt\n",
    "s = 0\n",
    "e = 100\n",
    "\n",
    "plt.plot(range(s,e),train_loss[s:e],range(s,e),test_loss[s:e])"
   ]
  },
  {
   "cell_type": "code",
   "execution_count": null,
   "metadata": {
    "collapsed": true
   },
   "outputs": [],
   "source": []
  }
 ],
 "metadata": {
  "kernelspec": {
   "display_name": "Python 3",
   "language": "python",
   "name": "python3"
  },
  "language_info": {
   "codemirror_mode": {
    "name": "ipython",
    "version": 3
   },
   "file_extension": ".py",
   "mimetype": "text/x-python",
   "name": "python",
   "nbconvert_exporter": "python",
   "pygments_lexer": "ipython3",
   "version": "3.6.3"
  }
 },
 "nbformat": 4,
 "nbformat_minor": 2
}
